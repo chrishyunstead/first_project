{
 "cells": [
  {
   "cell_type": "code",
   "execution_count": 5,
   "id": "787e0b77",
   "metadata": {},
   "outputs": [],
   "source": [
    "import matplotlib.pyplot as plt\n",
    "from matplotlib import font_manager, rc\n",
    "plt.rcParams['axes.unicode_minus'] = False \n",
    "f_path = \"C:/Windows/Fonts/malgun.ttf\"\n",
    "font_name = font_manager.FontProperties(fname = f_path).get_name()\n",
    "\n",
    "rc('font', family=font_name)\n"
   ]
  },
  {
   "cell_type": "code",
   "execution_count": 6,
   "id": "77eda9eb",
   "metadata": {},
   "outputs": [
    {
     "data": {
      "text/html": [
       "<div>\n",
       "<style scoped>\n",
       "    .dataframe tbody tr th:only-of-type {\n",
       "        vertical-align: middle;\n",
       "    }\n",
       "\n",
       "    .dataframe tbody tr th {\n",
       "        vertical-align: top;\n",
       "    }\n",
       "\n",
       "    .dataframe thead th {\n",
       "        text-align: right;\n",
       "    }\n",
       "</style>\n",
       "<table border=\"1\" class=\"dataframe\">\n",
       "  <thead>\n",
       "    <tr style=\"text-align: right;\">\n",
       "      <th></th>\n",
       "      <th>년도</th>\n",
       "      <th>월</th>\n",
       "      <th>컨테이너</th>\n",
       "      <th>체류시간_totalTime(시간)</th>\n",
       "    </tr>\n",
       "  </thead>\n",
       "  <tbody>\n",
       "    <tr>\n",
       "      <th>0</th>\n",
       "      <td>2013</td>\n",
       "      <td>1</td>\n",
       "      <td>23818165</td>\n",
       "      <td>1088</td>\n",
       "    </tr>\n",
       "    <tr>\n",
       "      <th>1</th>\n",
       "      <td>2013</td>\n",
       "      <td>2</td>\n",
       "      <td>21777930</td>\n",
       "      <td>1052</td>\n",
       "    </tr>\n",
       "    <tr>\n",
       "      <th>2</th>\n",
       "      <td>2013</td>\n",
       "      <td>3</td>\n",
       "      <td>26068371</td>\n",
       "      <td>1175</td>\n",
       "    </tr>\n",
       "    <tr>\n",
       "      <th>3</th>\n",
       "      <td>2013</td>\n",
       "      <td>4</td>\n",
       "      <td>25903253</td>\n",
       "      <td>1203</td>\n",
       "    </tr>\n",
       "    <tr>\n",
       "      <th>4</th>\n",
       "      <td>2013</td>\n",
       "      <td>5</td>\n",
       "      <td>25397562</td>\n",
       "      <td>1180</td>\n",
       "    </tr>\n",
       "    <tr>\n",
       "      <th>...</th>\n",
       "      <td>...</td>\n",
       "      <td>...</td>\n",
       "      <td>...</td>\n",
       "      <td>...</td>\n",
       "    </tr>\n",
       "    <tr>\n",
       "      <th>127</th>\n",
       "      <td>2023</td>\n",
       "      <td>8</td>\n",
       "      <td>34292855</td>\n",
       "      <td>17367</td>\n",
       "    </tr>\n",
       "    <tr>\n",
       "      <th>128</th>\n",
       "      <td>2023</td>\n",
       "      <td>9</td>\n",
       "      <td>35206478</td>\n",
       "      <td>17003</td>\n",
       "    </tr>\n",
       "    <tr>\n",
       "      <th>129</th>\n",
       "      <td>2023</td>\n",
       "      <td>10</td>\n",
       "      <td>33865762</td>\n",
       "      <td>18293</td>\n",
       "    </tr>\n",
       "    <tr>\n",
       "      <th>130</th>\n",
       "      <td>2023</td>\n",
       "      <td>11</td>\n",
       "      <td>35283219</td>\n",
       "      <td>16577</td>\n",
       "    </tr>\n",
       "    <tr>\n",
       "      <th>131</th>\n",
       "      <td>2023</td>\n",
       "      <td>12</td>\n",
       "      <td>34096319</td>\n",
       "      <td>12671</td>\n",
       "    </tr>\n",
       "  </tbody>\n",
       "</table>\n",
       "<p>132 rows × 4 columns</p>\n",
       "</div>"
      ],
      "text/plain": [
       "       년도   월      컨테이너  체류시간_totalTime(시간)\n",
       "0    2013   1  23818165                1088\n",
       "1    2013   2  21777930                1052\n",
       "2    2013   3  26068371                1175\n",
       "3    2013   4  25903253                1203\n",
       "4    2013   5  25397562                1180\n",
       "..    ...  ..       ...                 ...\n",
       "127  2023   8  34292855               17367\n",
       "128  2023   9  35206478               17003\n",
       "129  2023  10  33865762               18293\n",
       "130  2023  11  35283219               16577\n",
       "131  2023  12  34096319               12671\n",
       "\n",
       "[132 rows x 4 columns]"
      ]
     },
     "execution_count": 6,
     "metadata": {},
     "output_type": "execute_result"
    }
   ],
   "source": [
    "import pandas as pd\n",
    "df = pd.read_csv('../data/물동량-체류시간_상관분석.csv')\n",
    "df"
   ]
  },
  {
   "cell_type": "code",
   "execution_count": 19,
   "id": "2db5ae57",
   "metadata": {},
   "outputs": [
    {
     "data": {
      "text/plain": [
       "42688022"
      ]
     },
     "execution_count": 19,
     "metadata": {},
     "output_type": "execute_result"
    }
   ],
   "source": [
    "df['컨테이너'].max()"
   ]
  },
  {
   "cell_type": "code",
   "execution_count": 7,
   "id": "109bc663",
   "metadata": {},
   "outputs": [
    {
     "data": {
      "text/plain": [
       "array([[1.        , 0.49331405],\n",
       "       [0.49331405, 1.        ]])"
      ]
     },
     "execution_count": 7,
     "metadata": {},
     "output_type": "execute_result"
    }
   ],
   "source": [
    "import numpy as np\n",
    "np.corrcoef(df['컨테이너'], df['체류시간_totalTime(시간)'])"
   ]
  },
  {
   "cell_type": "markdown",
   "id": "5f38e65a",
   "metadata": {},
   "source": [
    "## 0.5 정도 되므로 상관관계가 보통정도 된다고 볼 수 있다."
   ]
  },
  {
   "cell_type": "code",
   "execution_count": 11,
   "id": "f04e36cd",
   "metadata": {},
   "outputs": [
    {
     "name": "stdout",
     "output_type": "stream",
     "text": [
      "[[-1.72292129 -0.84764111]\n",
      " [-2.17169745 -0.85382253]\n",
      " [-1.22795929 -0.83270266]\n",
      " [-1.26427914 -0.82789488]\n",
      " [-1.37551243 -0.83184413]\n",
      " [-1.33515693 -0.82909683]\n",
      " [-1.29328368 -0.82480417]\n",
      " [-1.55707537 -0.86893269]\n",
      " [-1.62792061 -0.85622642]\n",
      " [-1.41417797 -0.87580094]\n",
      " [-1.43691136 -0.84420698]\n",
      " [-1.20347169 -0.8282383 ]\n",
      " [-1.12968885 -0.83854067]\n",
      " [-2.05038743 -0.86017567]\n",
      " [-0.78099783 -0.83579337]\n",
      " [-0.83694299 -0.8337329 ]\n",
      " [-1.09668341 -0.83905579]\n",
      " [-0.9251763  -0.82703635]\n",
      " [-0.93087598 -0.8472977 ]\n",
      " [-1.03244938 -0.83854067]\n",
      " [-1.18559222 -0.88078042]\n",
      " [-0.64671923 -0.85124694]\n",
      " [-1.17472715 -0.84128798]\n",
      " [-1.03703671 -0.84764111]\n",
      " [-0.72368274 -0.84352016]\n",
      " [-1.01156588 -0.78943268]\n",
      " [-0.72087117 -0.76693915]\n",
      " [-0.76669672 -0.76779768]\n",
      " [-0.82388863 -0.75886896]\n",
      " [-0.84673552 -0.77226205]\n",
      " [-0.77250198 -0.76402014]\n",
      " [-0.84966411 -0.77844347]\n",
      " [-0.84917645 -0.77466593]\n",
      " [-0.90392568 -0.77312058]\n",
      " [-1.15093794 -0.79956335]\n",
      " [-0.86577046 -0.78239272]\n",
      " [-1.10545751 -0.79698775]\n",
      " [-1.05276648 -0.78668537]\n",
      " [-0.65767031 -0.78943268]\n",
      " [-0.98806547 -0.79492728]\n",
      " [-0.72686142 -0.7901195 ]\n",
      " [-0.87991628 -0.79183656]\n",
      " [-0.43403417 -0.75749531]\n",
      " [-0.70567635 -0.78823073]\n",
      " [-0.8234421  -0.75955578]\n",
      " [-0.46374303 -0.7573236 ]\n",
      " [-0.81533647 -0.76968645]\n",
      " [-0.85514537 -0.7463344 ]\n",
      " [ 0.04401201 -0.75869725]\n",
      " [-1.26864672 -0.7655655 ]\n",
      " [-0.01706466 -0.74787975]\n",
      " [ 0.18507515 -0.74719293]\n",
      " [-0.25497266 -0.79372533]\n",
      " [ 1.6230116  -0.84214651]\n",
      " [ 0.2301372  -0.83733873]\n",
      " [-0.36660607 -0.82154175]\n",
      " [-0.5193092  -0.82446076]\n",
      " [-0.39251814 -0.80900719]\n",
      " [-0.24018697 -0.81347156]\n",
      " [ 0.10854123 -0.67833871]\n",
      " [-0.3744913  -0.69087327]\n",
      " [-0.38653625 -0.70323612]\n",
      " [-0.2851221  -0.67164216]\n",
      " [ 0.79401251 -0.66357197]\n",
      " [ 2.42774856 -0.6182415 ]\n",
      " [ 1.46332596 -0.53135812]\n",
      " [ 2.3034202  -0.49375444]\n",
      " [ 1.29863616 -0.44996934]\n",
      " [ 1.53347171 -0.42884947]\n",
      " [ 1.38146454 -0.44773716]\n",
      " [ 1.50992225 -0.43125335]\n",
      " [ 1.49235843 -0.43537431]\n",
      " [ 0.64036353 -0.39828575]\n",
      " [ 0.36285186 -0.38454924]\n",
      " [ 1.15926542 -0.2741421 ]\n",
      " [ 0.78954594 -0.05693364]\n",
      " [ 1.27207431 -0.02791528]\n",
      " [ 1.90952547 -0.08200276]\n",
      " [ 1.890586   -0.02396604]\n",
      " [ 2.20482642 -0.00713882]\n",
      " [ 0.97542477 -0.05950924]\n",
      " [ 1.30688015 -0.07152868]\n",
      " [ 0.82594233  0.05192814]\n",
      " [ 1.51676464  0.11099511]\n",
      " [ 0.2731503   0.19307071]\n",
      " [-0.38260309  0.01157717]\n",
      " [ 0.63292284  0.25917764]\n",
      " [-0.18856913  0.23874459]\n",
      " [-0.41233043  0.22878562]\n",
      " [-0.15682958  0.26209664]\n",
      " [ 0.04328834  0.4301971 ]\n",
      " [ 0.01130792  0.53184722]\n",
      " [ 0.09289923  0.29970032]\n",
      " [ 0.77581035  0.39911826]\n",
      " [ 0.96705166  0.40512798]\n",
      " [ 0.65252682  0.42521762]\n",
      " [ 0.54062154  0.53287746]\n",
      " [-0.1328402   0.30107397]\n",
      " [ 0.97763034  0.43620682]\n",
      " [ 0.90877181  0.59160101]\n",
      " [ 1.11279978  0.72673386]\n",
      " [ 0.84655528  0.8232328 ]\n",
      " [ 1.05680887  0.70767447]\n",
      " [ 0.67758302  0.81001141]\n",
      " [ 0.54693228  0.87079544]\n",
      " [ 1.13649991  1.00730194]\n",
      " [ 0.54379561  1.14792939]\n",
      " [ 0.62908823  1.39261086]\n",
      " [ 1.08001364  1.68416814]\n",
      " [ 0.02479099  1.32925123]\n",
      " [ 0.42073248  1.51555256]\n",
      " [ 0.58772749  1.64948347]\n",
      " [ 0.860116    1.78221243]\n",
      " [ 0.42217148  1.61668756]\n",
      " [ 1.28117594  2.03582262]\n",
      " [ 0.66056867  2.25560667]\n",
      " [-0.71242899  1.60810225]\n",
      " [ 0.29045281  1.82840142]\n",
      " [ 0.04963735  1.9425861 ]\n",
      " [-0.23129122  1.78942409]\n",
      " [ 0.46743106  2.06243709]\n",
      " [-0.22788224  1.59144674]\n",
      " [ 1.02429504  2.01762175]\n",
      " [ 0.91025304  1.89639711]\n",
      " [ 0.79687774  1.83286578]\n",
      " [ 0.44098667  1.93451591]\n",
      " [ 0.62169835  1.89261957]\n",
      " [ 0.58112266  1.94756558]\n",
      " [ 0.78208589  1.88506449]\n",
      " [ 0.48717802  2.10656561]\n",
      " [ 0.79896607  1.81191762]\n",
      " [ 0.53789202  1.14123285]]\n"
     ]
    }
   ],
   "source": [
    "import pandas as pd\n",
    "from sklearn.preprocessing import StandardScaler\n",
    "\n",
    "df1 = pd.DataFrame({'물동량' : df['컨테이너'], '체류시간' : df['체류시간_totalTime(시간)']})\n",
    "colnames = df1.columns\n",
    "\n",
    "scaler = StandardScaler()\n",
    "scaler.fit(df1)\n",
    "# z-score scaling 수행 결과\n",
    "print(scaler.transform(df1))\n"
   ]
  },
  {
   "cell_type": "code",
   "execution_count": 12,
   "id": "05234a9d",
   "metadata": {},
   "outputs": [
    {
     "name": "stdout",
     "output_type": "stream",
     "text": [
      "표준화된 데이터:\n",
      "          물동량      체류시간\n",
      "0   -1.722921 -0.847641\n",
      "1   -2.171697 -0.853823\n",
      "2   -1.227959 -0.832703\n",
      "3   -1.264279 -0.827895\n",
      "4   -1.375512 -0.831844\n",
      "..        ...       ...\n",
      "127  0.581123  1.947566\n",
      "128  0.782086  1.885064\n",
      "129  0.487178  2.106566\n",
      "130  0.798966  1.811918\n",
      "131  0.537892  1.141233\n",
      "\n",
      "[132 rows x 2 columns]\n"
     ]
    },
    {
     "data": {
      "text/plain": [
       "0.4933140536209879"
      ]
     },
     "execution_count": 12,
     "metadata": {},
     "output_type": "execute_result"
    }
   ],
   "source": [
    "scaler = StandardScaler()\n",
    "scaled_df = pd.DataFrame(scaler.fit_transform(df1), columns=df1.columns)\n",
    "\n",
    "# 표준화된 데이터 출력\n",
    "print(\"표준화된 데이터:\")\n",
    "print(scaled_df)\n",
    "\n",
    "# 상관계수 계산\n",
    "correlation_coef = scaled_df['체류시간'].corr(scaled_df['물동량'])\n",
    "correlation_coef"
   ]
  },
  {
   "cell_type": "code",
   "execution_count": 13,
   "id": "103c47b8",
   "metadata": {},
   "outputs": [
    {
     "data": {
      "text/plain": [
       "array([[1.        , 0.49331405],\n",
       "       [0.49331405, 1.        ]])"
      ]
     },
     "execution_count": 13,
     "metadata": {},
     "output_type": "execute_result"
    }
   ],
   "source": [
    "import numpy as np\n",
    "np.corrcoef(df1['물동량'], df1['체류시간'])"
   ]
  },
  {
   "cell_type": "code",
   "execution_count": 15,
   "id": "9dd7ec04",
   "metadata": {},
   "outputs": [
    {
     "data": {
      "text/plain": [
       "array([ 6.31956034e-04, -1.39774291e+04])"
      ]
     },
     "execution_count": 15,
     "metadata": {},
     "output_type": "execute_result"
    }
   ],
   "source": [
    "# 기울기, 절편, 1차원\n",
    "# y = ax + b\n",
    "fp1 = np.polyfit(df['컨테이너'], df['체류시간_totalTime(시간)'], 1) # 1차원으로 그려라\n",
    "fp1"
   ]
  },
  {
   "cell_type": "code",
   "execution_count": 21,
   "id": "ca003490",
   "metadata": {},
   "outputs": [
    {
     "data": {
      "image/png": "[encoded data removed]",
      "text/plain": [
       "<Figure size 1000x1000 with 1 Axes>"
      ]
     },
     "metadata": {},
     "output_type": "display_data"
    }
   ],
   "source": [
    "f1 = np.poly1d(fp1) # 매개변수로부터 모델 생성\n",
    "fx = np.linspace(20000000, 50000000, 100) # 시작, 끝(포함), 갯수\n",
    "plt.figure(figsize=(10,10))\n",
    "plt.scatter(df['컨테이너'], df['체류시간_totalTime(시간)'], s = 50)\n",
    "plt.plot(fx, f1(fx), ls= 'dashed', lw=3, color = 'g')\n",
    "plt.xlabel('물동량')\n",
    "plt.ylabel('체류시간')\n",
    "plt.grid()\n",
    "plt.show()"
   ]
  },
  {
   "cell_type": "code",
   "execution_count": null,
   "id": "f0b03f75",
   "metadata": {},
   "outputs": [],
   "source": []
  }
 ],
 "metadata": {
  "kernelspec": {
   "display_name": "Python 3 (ipykernel)",
   "language": "python",
   "name": "python3"
  },
  "language_info": {
   "codemirror_mode": {
    "name": "ipython",
    "version": 3
   },
   "file_extension": ".py",
   "mimetype": "text/x-python",
   "name": "python",
   "nbconvert_exporter": "python",
   "pygments_lexer": "ipython3",
   "version": "3.11.5"
  }
 },
 "nbformat": 4,
 "nbformat_minor": 5
}
