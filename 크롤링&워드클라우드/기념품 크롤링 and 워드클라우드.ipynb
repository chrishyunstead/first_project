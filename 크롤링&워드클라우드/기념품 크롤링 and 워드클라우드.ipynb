{
 "cells": [
  {
   "cell_type": "code",
   "execution_count": 1,
   "id": "ea285948",
   "metadata": {},
   "outputs": [],
   "source": [
    "from selenium import webdriver\n",
    "from selenium.webdriver.chrome.service import Service\n",
    "from selenium.webdriver.chrome.options import Options\n",
    "from selenium.webdriver.common.by import By\n",
    "from selenium.webdriver.common.keys import Keys\n",
    "import urllib.request\n",
    "import time\n",
    "# 크롬 드라이버 자동 업데이트\n",
    "from webdriver_manager.chrome import ChromeDriverManager\n",
    "# 브라우저 꺼짐 방지\n",
    "chrome_options = Options()\n",
    "chrome_options.add_experimental_option(\"detach\", True)\n",
    "# 불필요한 에러 메시지 없애기\n",
    "chrome_options.add_experimental_option(\"excludeSwitches\", [\"enable-logging\"])\n",
    "service = Service(executable_path=ChromeDriverManager().install())\n",
    "driver = webdriver.Chrome(options=chrome_options)"
   ]
  },
  {
   "cell_type": "code",
   "execution_count": 3,
   "id": "9fb24df2",
   "metadata": {},
   "outputs": [
    {
     "data": {
      "text/plain": [
       "[<span style=\"font-size:12px;color:#555555;\">[모다라]부산머그컵</span>,\n",
       " <span style=\"font-size:12px;color:#555555;\">[모다라]광안대교누리마루파우치</span>,\n",
       " <span style=\"font-size:12px;color:#555555;\">[모다라]부기스포츠물병</span>,\n",
       " <span style=\"font-size:12px;color:#555555;\">[모다라]부기대나무텀블러</span>,\n",
       " <span style=\"font-size:12px;color:#555555;\">(모다라)부산감성손거울</span>,\n",
       " <span style=\"font-size:12px;color:#555555;\">동백미니에코백</span>,\n",
       " <span style=\"font-size:12px;color:#555555;\">부기 자개 마그넷</span>,\n",
       " <span style=\"font-size:12px;color:#555555;\">동백꽃 손수건</span>,\n",
       " <span style=\"font-size:12px;color:#555555;\">동백 조리개 손가방</span>,\n",
       " <span style=\"font-size:12px;color:#555555;\">런즈X감천문화마을_스노우볼</span>,\n",
       " <span style=\"font-size:12px;color:#555555;\">[모다라]부산머그컵</span>,\n",
       " <span style=\"font-size:12px;color:#555555;\">[모다라]광안대교누리마루파우치</span>,\n",
       " <span style=\"font-size:12px;color:#555555;\">[모다라]부기스포츠물병</span>,\n",
       " <span style=\"font-size:12px;color:#555555;\">[모다라]부기대나무텀블러</span>,\n",
       " <span style=\"font-size:12px;color:#555555;\">(모다라)부산감성손거울</span>,\n",
       " <span style=\"font-size:12px;color:#555555;\">명함집 2종세트</span>,\n",
       " <span style=\"font-size:12px;color:#555555;\">바다레진그립톡</span>,\n",
       " <span style=\"font-size:12px;color:#555555;\">동백미니에코백</span>,\n",
       " <span style=\"font-size:12px;color:#555555;\">동백 조리개 손가방</span>,\n",
       " <span style=\"font-size:12px;color:#555555;\">자이언츠X런즈_리무버블 스티커</span>]"
      ]
     },
     "execution_count": 3,
     "metadata": {},
     "output_type": "execute_result"
    }
   ],
   "source": [
    "from bs4 import BeautifulSoup \n",
    "from selenium import webdriver\n",
    "import pandas as pd\n",
    "from selenium import webdriver\n",
    "\n",
    "driver = webdriver.Chrome(service = service, options = chrome_options)\n",
    "\n",
    "driver.get('https://busansouvenir.com/')\n",
    "\n",
    "html = driver.page_source\n",
    "soup = BeautifulSoup(html, 'html.parser')\n",
    "result = []\n",
    "souvenir = soup.select('div > strong > a > span')\n",
    "souvenir # 부산 기념품 10선 협의회\n",
    "\n"
   ]
  },
  {
   "cell_type": "code",
   "execution_count": 19,
   "id": "20d6f0dc",
   "metadata": {},
   "outputs": [
    {
     "data": {
      "text/plain": [
       "['[모다라]부산머그컵',\n",
       " '[모다라]광안대교누리마루파우치',\n",
       " '[모다라]부기스포츠물병',\n",
       " '[모다라]부기대나무텀블러',\n",
       " '(모다라)부산감성손거울',\n",
       " '동백미니에코백',\n",
       " '부기 자개 마그넷',\n",
       " '동백꽃 손수건',\n",
       " '동백 조리개 손가방',\n",
       " '런즈X감천문화마을_스노우볼',\n",
       " '[모다라]부산머그컵',\n",
       " '[모다라]광안대교누리마루파우치',\n",
       " '[모다라]부기스포츠물병',\n",
       " '[모다라]부기대나무텀블러',\n",
       " '(모다라)부산감성손거울',\n",
       " '명함집 2종세트',\n",
       " '바다레진그립톡',\n",
       " '동백미니에코백',\n",
       " '동백 조리개 손가방',\n",
       " '자이언츠X런즈_리무버블 스티커']"
      ]
     },
     "execution_count": 19,
     "metadata": {},
     "output_type": "execute_result"
    }
   ],
   "source": [
    "result = []\n",
    "for element in souvenir:\n",
    "    korean_text = element.text\n",
    "    result.append(korean_text)\n",
    "result\n"
   ]
  },
  {
   "cell_type": "code",
   "execution_count": 20,
   "id": "cdc6c944",
   "metadata": {},
   "outputs": [
    {
     "name": "stdout",
     "output_type": "stream",
     "text": [
      "['런즈X감천문화마을_스노우볼', '[모다라]부기대나무텀블러', '[모다라]부기스포츠물병', '동백 조리개 손가방', '부기 자개 마그넷', '명함집 2종세트', '(모다라)부산감성손거울', '[모다라]부산머그컵', '바다레진그립톡', '동백미니에코백', '자이언츠X런즈_리무버블 스티커', '[모다라]광안대교누리마루파우치', '동백꽃 손수건']\n"
     ]
    }
   ],
   "source": [
    "unique_result = list(set(result))\n",
    "print(unique_result)   # 리스트에서 중복제거"
   ]
  },
  {
   "cell_type": "code",
   "execution_count": 192,
   "id": "e81f4284",
   "metadata": {},
   "outputs": [
    {
     "data": {
      "text/plain": [
       "[<strong>1. Korean Packaged Food</strong>,\n",
       " <strong>2. Korean Instant Noodles</strong>,\n",
       " <strong>4. Dried Food Snacks</strong>,\n",
       " <strong>5. Ginseng</strong>,\n",
       " <strong>6. Korean Cosmetics and Skin Care Products</strong>,\n",
       " <strong>7. Korean Beverages</strong>,\n",
       " <strong>8. Korean Socks</strong>,\n",
       " <strong>9. Korean Traditional Souvenirs</strong>,\n",
       " <strong>10. K-Pop Goods</strong>,\n",
       " <strong>11. Starbucks Goods</strong>,\n",
       " <strong>13. Stationery</strong>,\n",
       " <strong>14. Kakao Friends</strong>,\n",
       " <strong>15. Phone Accessories</strong>]"
      ]
     },
     "execution_count": 192,
     "metadata": {},
     "output_type": "execute_result"
    }
   ],
   "source": [
    "driver.get('https://www.creatrip.com/en/blog/3165')\n",
    "\n",
    "html = driver.page_source\n",
    "soup = BeautifulSoup(html, 'html.parser')\n",
    "result = []\n",
    "souvenir = soup.select('.fr-view > h2 > span > strong')\n",
    "souvenir"
   ]
  },
  {
   "cell_type": "code",
   "execution_count": 193,
   "id": "bc564ce6",
   "metadata": {},
   "outputs": [
    {
     "data": {
      "text/plain": [
       "['Korean Packaged Food',\n",
       " 'Korean Instant Noodles',\n",
       " 'Dried Food Snacks',\n",
       " 'Ginseng',\n",
       " 'Korean Cosmetics and Skin Care Products',\n",
       " 'Korean Beverages',\n",
       " 'Korean Socks',\n",
       " 'Korean Traditional Souvenirs',\n",
       " 'K-Pop Goods',\n",
       " 'Starbucks Goods',\n",
       " 'Stationery',\n",
       " 'Kakao Friends',\n",
       " 'Phone Accessories']"
      ]
     },
     "execution_count": 193,
     "metadata": {},
     "output_type": "execute_result"
    }
   ],
   "source": [
    "r1 = []\n",
    "for i in souvenir:\n",
    "    r1.append(i.text.split('. ')[1])\n",
    "r1 # 리스트 완성1"
   ]
  },
  {
   "cell_type": "code",
   "execution_count": 190,
   "id": "5256ca2e",
   "metadata": {},
   "outputs": [],
   "source": [
    "driver.get('https://blog.trazy.com/top-things-to-buy-in-seoul-to-take-home/')\n",
    "from selenium.webdriver.common.by import By \n",
    "s = driver.find_elements(By.XPATH, '//*[@id=\"post-28833\"]/div/div/h2')"
   ]
  },
  {
   "cell_type": "code",
   "execution_count": 191,
   "id": "f197ae97",
   "metadata": {},
   "outputs": [
    {
     "data": {
      "text/plain": [
       "['Electric Rice Cooker',\n",
       " 'Ramyeon (Instant Noodles)',\n",
       " 'Soju & Makgeolli (Korean Alcoholic Drinks)',\n",
       " 'Gim (Dried Seaweed)',\n",
       " 'Korean Beauty Products',\n",
       " 'K-Pop & K-Drama Goods',\n",
       " 'Stationery Items',\n",
       " 'Korean Red Ginseng (Hongsam)',\n",
       " 'Traditional Handicrafts',\n",
       " 'Customized Souvenir',\n",
       " 'Socks & Stockings',\n",
       " 'Korean Snacks',\n",
       " 'Kakao Friends & LINE Friends’ Daily Goods',\n",
       " 'Hanbok (Korean Traditional Dress)',\n",
       " 'Starbucks Goods',\n",
       " 'Korean Clothing & Fashion Items',\n",
       " 'Osulloc Tea & Snacks']"
      ]
     },
     "execution_count": 191,
     "metadata": {},
     "output_type": "execute_result"
    }
   ],
   "source": [
    "r2 = []\n",
    "for i in s:\n",
    "    r2.append(i.text.split('. ')[1])\n",
    "r2 # 리스트 완성2"
   ]
  },
  {
   "cell_type": "code",
   "execution_count": 185,
   "id": "7b75b471",
   "metadata": {},
   "outputs": [],
   "source": [
    "driver.get('https://vickyflipfloptravels.com/korean-souvenirs/')\n",
    "from selenium.webdriver.common.by import By \n",
    "d = driver.find_elements(By.XPATH, '//*[@id=\"post-53789\"]/div/div/h2')"
   ]
  },
  {
   "cell_type": "code",
   "execution_count": 186,
   "id": "d12048f1",
   "metadata": {},
   "outputs": [
    {
     "data": {
      "text/plain": [
       "['The Best Souvenirs from South Korea',\n",
       " '1. Korean beauty products',\n",
       " '2. Traditional hanbok',\n",
       " '3. Handmade ceramics',\n",
       " '4. Traditional Korean fan',\n",
       " '5. Korean tea',\n",
       " '6. Customised souvenirs',\n",
       " '7. Korean folk crafts',\n",
       " '8. Traditional dress',\n",
       " '9. Kimchi',\n",
       " '10. Starbucks goods',\n",
       " '11. Intricate metalwork',\n",
       " '12. Korean jewellery boxes (artisan woodcraft)',\n",
       " '13. Hanji paper art',\n",
       " '14. Korean name necklace',\n",
       " '15. Korean stationery',\n",
       " 'Any thoughts on South Korean souvenirs?']"
      ]
     },
     "execution_count": 186,
     "metadata": {},
     "output_type": "execute_result"
    }
   ],
   "source": [
    "e = []\n",
    "for i in d:\n",
    "    e.append(i.text)\n",
    "    \n",
    "e"
   ]
  },
  {
   "cell_type": "code",
   "execution_count": 187,
   "id": "4d4bc462",
   "metadata": {},
   "outputs": [
    {
     "data": {
      "text/plain": [
       "['1. Korean beauty products',\n",
       " '2. Traditional hanbok',\n",
       " '3. Handmade ceramics',\n",
       " '4. Traditional Korean fan',\n",
       " '5. Korean tea',\n",
       " '6. Customised souvenirs',\n",
       " '7. Korean folk crafts',\n",
       " '8. Traditional dress',\n",
       " '9. Kimchi',\n",
       " '10. Starbucks goods',\n",
       " '11. Intricate metalwork',\n",
       " '12. Korean jewellery boxes (artisan woodcraft)',\n",
       " '13. Hanji paper art',\n",
       " '14. Korean name necklace',\n",
       " '15. Korean stationery',\n",
       " 'Any thoughts on South Korean souvenirs?']"
      ]
     },
     "execution_count": 187,
     "metadata": {},
     "output_type": "execute_result"
    }
   ],
   "source": [
    "e_list = e[1:]\n",
    "e_list"
   ]
  },
  {
   "cell_type": "code",
   "execution_count": 188,
   "id": "398582d8",
   "metadata": {},
   "outputs": [
    {
     "data": {
      "text/plain": [
       "['1. Korean beauty products',\n",
       " '2. Traditional hanbok',\n",
       " '3. Handmade ceramics',\n",
       " '4. Traditional Korean fan',\n",
       " '5. Korean tea',\n",
       " '6. Customised souvenirs',\n",
       " '7. Korean folk crafts',\n",
       " '8. Traditional dress',\n",
       " '9. Kimchi',\n",
       " '10. Starbucks goods',\n",
       " '11. Intricate metalwork',\n",
       " '12. Korean jewellery boxes (artisan woodcraft)',\n",
       " '13. Hanji paper art',\n",
       " '14. Korean name necklace',\n",
       " '15. Korean stationery']"
      ]
     },
     "execution_count": 188,
     "metadata": {},
     "output_type": "execute_result"
    }
   ],
   "source": [
    "d_list = e_list[:-1]\n",
    "d_list"
   ]
  },
  {
   "cell_type": "code",
   "execution_count": 189,
   "id": "04e20172",
   "metadata": {},
   "outputs": [
    {
     "data": {
      "text/plain": [
       "['Korean beauty products',\n",
       " 'Traditional hanbok',\n",
       " 'Handmade ceramics',\n",
       " 'Traditional Korean fan',\n",
       " 'Korean tea',\n",
       " 'Customised souvenirs',\n",
       " 'Korean folk crafts',\n",
       " 'Traditional dress',\n",
       " 'Kimchi',\n",
       " 'Starbucks goods',\n",
       " 'Intricate metalwork',\n",
       " 'Korean jewellery boxes (artisan woodcraft)',\n",
       " 'Hanji paper art',\n",
       " 'Korean name necklace',\n",
       " 'Korean stationery']"
      ]
     },
     "execution_count": 189,
     "metadata": {},
     "output_type": "execute_result"
    }
   ],
   "source": [
    "r3 =[]\n",
    "for i in d_list:\n",
    "    r3.append(i.split('. ')[1])\n",
    "r3   # 리스트 완성3"
   ]
  },
  {
   "cell_type": "code",
   "execution_count": 181,
   "id": "c386aacf",
   "metadata": {},
   "outputs": [
    {
     "data": {
      "text/plain": [
       "'Best souvenirs from Korea for personal care'"
      ]
     },
     "execution_count": 181,
     "metadata": {},
     "output_type": "execute_result"
    }
   ],
   "source": [
    "driver.get('https://chillandtravel.com/pasalubong-from-korea-souvenirs/')\n",
    "from selenium.webdriver.common.by import By \n",
    "a = driver.find_elements(By.XPATH, '//*[@id=\"post-1305\"]/div/div/h3')\n",
    "\n",
    "w = []\n",
    "for i in a:\n",
    "    w.append(i.text)\n",
    "    \n",
    "w.pop(20)"
   ]
  },
  {
   "cell_type": "code",
   "execution_count": 182,
   "id": "60665d60",
   "metadata": {},
   "outputs": [
    {
     "data": {
      "text/plain": [
       "['1. Korean instant ramen',\n",
       " '2. Pepero',\n",
       " '3. Dragon’s beard candy',\n",
       " '4. Korean jellies and candies',\n",
       " '5. Korean pastries',\n",
       " '6. Personalized stone stamps',\n",
       " '7. NAMANE Card',\n",
       " '8. Lucky charms',\n",
       " '9. Paper products',\n",
       " '10. Bookmarks',\n",
       " '11. Journals',\n",
       " '12. Stuffed toys',\n",
       " '13. Ceramic items',\n",
       " '14. Wooden utensils',\n",
       " '15. Hand fans',\n",
       " '16. Character socks',\n",
       " '17. Knitted caps',\n",
       " '18. Scarves',\n",
       " '19. Bucket hats',\n",
       " '20. Bags',\n",
       " '21. Clothes',\n",
       " '22. Hand mirrors',\n",
       " '23. Earrings',\n",
       " '24. Korean skincare products']"
      ]
     },
     "execution_count": 182,
     "metadata": {},
     "output_type": "execute_result"
    }
   ],
   "source": [
    "w"
   ]
  },
  {
   "cell_type": "code",
   "execution_count": 184,
   "id": "77877edc",
   "metadata": {},
   "outputs": [
    {
     "data": {
      "text/plain": [
       "['Korean instant ramen',\n",
       " 'Pepero',\n",
       " 'Dragon’s beard candy',\n",
       " 'Korean jellies and candies',\n",
       " 'Korean pastries',\n",
       " 'Personalized stone stamps',\n",
       " 'NAMANE Card',\n",
       " 'Lucky charms',\n",
       " 'Paper products',\n",
       " 'Bookmarks',\n",
       " 'Journals',\n",
       " 'Stuffed toys',\n",
       " 'Ceramic items',\n",
       " 'Wooden utensils',\n",
       " 'Hand fans',\n",
       " 'Character socks',\n",
       " 'Knitted caps',\n",
       " 'Scarves',\n",
       " 'Bucket hats',\n",
       " 'Bags',\n",
       " 'Clothes',\n",
       " 'Hand mirrors',\n",
       " 'Earrings',\n",
       " 'Korean skincare products']"
      ]
     },
     "execution_count": 184,
     "metadata": {},
     "output_type": "execute_result"
    }
   ],
   "source": [
    "r4 = []\n",
    "for i in w:\n",
    "    r4.append(i.split('. ')[1])\n",
    "    \n",
    "r4  # 리스트 완성4"
   ]
  },
  {
   "cell_type": "code",
   "execution_count": 152,
   "id": "65f52622",
   "metadata": {},
   "outputs": [],
   "source": [
    "from bs4 import BeautifulSoup \n",
    "from selenium import webdriver\n",
    "import pandas as pd\n",
    "from selenium import webdriver\n",
    "\n",
    "driver = webdriver.Chrome(service = service, options = chrome_options)\n",
    "driver.get('https://www.tasteatlas.com/best-rated-meat-dishes-in-korea')\n",
    "\n",
    "html = driver.page_source\n",
    "soup = BeautifulSoup(html, 'html.parser')"
   ]
  },
  {
   "cell_type": "code",
   "execution_count": 107,
   "id": "5c2ef1b8",
   "metadata": {},
   "outputs": [
    {
     "data": {
      "text/plain": [
       "[<a class=\"ng-binding\" href=\"bulgogi\" ng-href=\"bulgogi\" target=\"_blank\">Bulgogi</a>]"
      ]
     },
     "execution_count": 107,
     "metadata": {},
     "output_type": "execute_result"
    }
   ],
   "source": [
    "driver.get('https://www.tasteatlas.com/korea/meat-dishes')\n",
    "html = driver.page_source\n",
    "soup = BeautifulSoup(html, 'html.parser')\n",
    "result = []\n",
    "souvenir = soup.select('#search-results-whattoeat-content > div > div > div > div:nth-child(1) > div > div.search-results__item-info > h2 > a')\n",
    "souvenir"
   ]
  },
  {
   "cell_type": "code",
   "execution_count": 134,
   "id": "1e2afe4a",
   "metadata": {},
   "outputs": [
    {
     "data": {
      "text/plain": [
       "[[<a class=\"ng-binding\" href=\"bulgogi\" ng-href=\"bulgogi\" target=\"_blank\">Bulgogi</a>],\n",
       " [<a class=\"ng-binding\" href=\"samgyeopsal\" ng-href=\"samgyeopsal\" target=\"_blank\">Samgyeopsal</a>],\n",
       " [<a class=\"ng-binding\" href=\"kalbi\" ng-href=\"kalbi\" target=\"_blank\">Kalbi</a>],\n",
       " [<a class=\"ng-binding\" href=\"ansim-south-korea\" ng-href=\"ansim-south-korea\" target=\"_blank\">Ansim</a>],\n",
       " [<a class=\"ng-binding\" href=\"chikin\" ng-href=\"chikin\" target=\"_blank\">Korean fried chicken (Chikin)</a>],\n",
       " [<a class=\"ng-binding\" href=\"dak-galbi\" ng-href=\"dak-galbi\" target=\"_blank\">Dak Galbi</a>],\n",
       " [<a class=\"ng-binding\" href=\"bossam\" ng-href=\"bossam\" target=\"_blank\">Bossam</a>],\n",
       " [<a class=\"ng-binding\" href=\"ansim\" ng-href=\"ansim\" target=\"_blank\">Ansim</a>],\n",
       " [<a class=\"ng-binding\" href=\"dakbokkeumtang\" ng-href=\"dakbokkeumtang\" target=\"_blank\">Dakbokkeumtang</a>],\n",
       " [<a class=\"ng-binding\" href=\"samgyetang\" ng-href=\"samgyetang\" target=\"_blank\">Samgyetang</a>],\n",
       " [<a class=\"ng-binding\" href=\"jokbal\" ng-href=\"jokbal\" target=\"_blank\">Jokbal</a>],\n",
       " [<a class=\"ng-binding\" href=\"andong-jjimdak\" ng-href=\"andong-jjimdak\" target=\"_blank\">Andong jjimdak</a>],\n",
       " [<a class=\"ng-binding\" href=\"dwaeji-galbi\" ng-href=\"dwaeji-galbi\" target=\"_blank\">Dwaeji galbi</a>],\n",
       " [<a class=\"ng-binding\" href=\"tteokgalbi\" ng-href=\"tteokgalbi\" target=\"_blank\">Tteokgalbi</a>],\n",
       " [<a class=\"ng-binding\" href=\"jeyuk-bokkeum\" ng-href=\"jeyuk-bokkeum\" target=\"_blank\">Jeyuk bokkeum</a>],\n",
       " [<a class=\"ng-binding\" href=\"galbijjim\" ng-href=\"galbijjim\" target=\"_blank\">Galbijjim</a>],\n",
       " [<a class=\"ng-binding\" href=\"ogyeopsal\" ng-href=\"ogyeopsal\" target=\"_blank\">Ogyeopsal</a>],\n",
       " [<a class=\"ng-binding\" href=\"yukhoe\" ng-href=\"yukhoe\" target=\"_blank\">Yukhoe</a>],\n",
       " [<a class=\"ng-binding\" href=\"jumulleok\" ng-href=\"jumulleok\" target=\"_blank\">Jumulleok</a>],\n",
       " [<a class=\"ng-binding\" href=\"moksal\" ng-href=\"moksal\" target=\"_blank\">Moksal</a>],\n",
       " [<a class=\"ng-binding\" href=\"yukjeon\" ng-href=\"yukjeon\" target=\"_blank\">Yukjeon</a>],\n",
       " [<a class=\"ng-binding\" href=\"wanjajeon\" ng-href=\"wanjajeon\" target=\"_blank\">Wanjajeon</a>],\n",
       " [<a class=\"ng-binding\" href=\"hanjeongsal\" ng-href=\"hanjeongsal\" target=\"_blank\">Hanjeongsal</a>],\n",
       " [<a class=\"ng-binding\" href=\"galmaegisal\" ng-href=\"galmaegisal\" target=\"_blank\">Galmaegisal</a>],\n",
       " [<a class=\"ng-binding\" href=\"jangjorim\" ng-href=\"jangjorim\" target=\"_blank\">Soy-Braised Beef (Jangjorim)</a>],\n",
       " [<a class=\"ng-binding\" href=\"sanjeok\" ng-href=\"sanjeok\" target=\"_blank\">Beef Skewers (Sanjeok)</a>],\n",
       " [<a class=\"ng-binding\" href=\"daeji-galbi\" ng-href=\"daeji-galbi\" target=\"_blank\">Daeji galbi</a>],\n",
       " [<a class=\"ng-binding\" href=\"dakjuk\" ng-href=\"dakjuk\" target=\"_blank\">Chicken and Rice Porridge (Dakjuk)</a>],\n",
       " [<a class=\"ng-binding\" href=\"wanja-jorim\" ng-href=\"wanja-jorim\" target=\"_blank\">Glazed Meatballs (Wanja jorim)</a>]]"
      ]
     },
     "execution_count": 134,
     "metadata": {},
     "output_type": "execute_result"
    }
   ],
   "source": [
    "a = []\n",
    "c = []\n",
    "for i in range(1, 30):\n",
    "    souvenir = soup.select('#search-results-whattoeat-content > div > div > div > div:nth-child(%d) > div > div.search-results__item-info > h2 > a' %i)\n",
    "    a.append(souvenir)\n",
    "a"
   ]
  },
  {
   "cell_type": "code",
   "execution_count": 133,
   "id": "4248ecee",
   "metadata": {},
   "outputs": [
    {
     "data": {
      "text/plain": [
       "['Bulgogi',\n",
       " 'Samgyeopsal',\n",
       " 'Kalbi',\n",
       " 'Ansim',\n",
       " 'Korean fried chicken (Chikin)',\n",
       " 'Dak Galbi',\n",
       " 'Bossam',\n",
       " 'Ansim',\n",
       " 'Dakbokkeumtang',\n",
       " 'Samgyetang',\n",
       " 'Jokbal',\n",
       " 'Andong jjimdak',\n",
       " 'Dwaeji galbi',\n",
       " 'Tteokgalbi',\n",
       " 'Jeyuk bokkeum',\n",
       " 'Galbijjim',\n",
       " 'Ogyeopsal',\n",
       " 'Yukhoe',\n",
       " 'Jumulleok',\n",
       " 'Moksal',\n",
       " 'Yukjeon',\n",
       " 'Wanjajeon',\n",
       " 'Hanjeongsal',\n",
       " 'Galmaegisal',\n",
       " 'Soy-Braised Beef (Jangjorim)',\n",
       " 'Beef Skewers (Sanjeok)',\n",
       " 'Daeji galbi',\n",
       " 'Chicken and Rice Porridge (Dakjuk)',\n",
       " 'Glazed Meatballs (Wanja jorim)']"
      ]
     },
     "execution_count": 133,
     "metadata": {},
     "output_type": "execute_result"
    }
   ],
   "source": [
    "for i in a:\n",
    "    for b in i:\n",
    "        c.append(b.text)\n",
    "c # 육류 크롤링"
   ]
  },
  {
   "cell_type": "code",
   "execution_count": 177,
   "id": "32fff776",
   "metadata": {},
   "outputs": [],
   "source": [
    "driver.get('https://www.lifeofbrit.com/things-to-buy-in-south-korea/')\n",
    "from selenium.webdriver.common.by import By \n",
    "a = driver.find_elements(By.XPATH, '//*[@id=\"post-2404\"]/div/div/h3')"
   ]
  },
  {
   "cell_type": "code",
   "execution_count": 178,
   "id": "fef3a884",
   "metadata": {},
   "outputs": [
    {
     "data": {
      "text/plain": [
       "['1. Korean Face Masks',\n",
       " '2. And anything K Beauty',\n",
       " '3. Korean Clothes + Shoes',\n",
       " '4. Silly Socks',\n",
       " '5. Cute stationery and office supplies',\n",
       " '6. Phone Cases and Accessories',\n",
       " '7. K-pop Merch',\n",
       " '8. Dojang or Traditional Stamps',\n",
       " '9. Korean Chopsticks',\n",
       " '10. Hanji Paper',\n",
       " '11. Korean Tea',\n",
       " '12. Traditional Wooden Korean Masks',\n",
       " '13. Wooden Wedding Ducks.',\n",
       " '14. Hanbok',\n",
       " '15. Soju',\n",
       " '16. Korean spices and pastes',\n",
       " '17. Pepero',\n",
       " '18. Spicy Ramen Noodles',\n",
       " '19. Dried Seaweed',\n",
       " '20. Hotteok Box Mix',\n",
       " '21. Instant coffees, beverages, and soups',\n",
       " '22. Anything Honey Butter Flavor',\n",
       " '23. Korean Red Ginseng',\n",
       " '24. Kimchi',\n",
       " '25. Hangover Cure Products',\n",
       " 'There you have folks, some of the best and my all-time favorite things to buy in Korea!',\n",
       " 'What do you think the best Korean souvenirs are? Share below!']"
      ]
     },
     "execution_count": 178,
     "metadata": {},
     "output_type": "execute_result"
    }
   ],
   "source": [
    "r = []\n",
    "for i in a:\n",
    "    r.append(i.text)\n",
    "r"
   ]
  },
  {
   "cell_type": "code",
   "execution_count": 179,
   "id": "e7e61572",
   "metadata": {},
   "outputs": [
    {
     "data": {
      "text/plain": [
       "['1. Korean Face Masks',\n",
       " '2. And anything K Beauty',\n",
       " '3. Korean Clothes + Shoes',\n",
       " '4. Silly Socks',\n",
       " '5. Cute stationery and office supplies',\n",
       " '6. Phone Cases and Accessories',\n",
       " '7. K-pop Merch',\n",
       " '8. Dojang or Traditional Stamps',\n",
       " '9. Korean Chopsticks',\n",
       " '10. Hanji Paper',\n",
       " '11. Korean Tea',\n",
       " '12. Traditional Wooden Korean Masks',\n",
       " '13. Wooden Wedding Ducks.',\n",
       " '14. Hanbok',\n",
       " '15. Soju',\n",
       " '16. Korean spices and pastes',\n",
       " '17. Pepero',\n",
       " '18. Spicy Ramen Noodles',\n",
       " '19. Dried Seaweed',\n",
       " '20. Hotteok Box Mix',\n",
       " '21. Instant coffees, beverages, and soups',\n",
       " '22. Anything Honey Butter Flavor',\n",
       " '23. Korean Red Ginseng',\n",
       " '24. Kimchi',\n",
       " '25. Hangover Cure Products']"
      ]
     },
     "execution_count": 179,
     "metadata": {},
     "output_type": "execute_result"
    }
   ],
   "source": [
    "r_list = r[0:25]\n",
    "r_list"
   ]
  },
  {
   "cell_type": "code",
   "execution_count": 180,
   "id": "46096350",
   "metadata": {},
   "outputs": [
    {
     "data": {
      "text/plain": [
       "['Korean Face Masks',\n",
       " 'And anything K Beauty',\n",
       " 'Korean Clothes + Shoes',\n",
       " 'Silly Socks',\n",
       " 'Cute stationery and office supplies',\n",
       " 'Phone Cases and Accessories',\n",
       " 'K-pop Merch',\n",
       " 'Dojang or Traditional Stamps',\n",
       " 'Korean Chopsticks',\n",
       " 'Hanji Paper',\n",
       " 'Korean Tea',\n",
       " 'Traditional Wooden Korean Masks',\n",
       " 'Wooden Wedding Ducks.',\n",
       " 'Hanbok',\n",
       " 'Soju',\n",
       " 'Korean spices and pastes',\n",
       " 'Pepero',\n",
       " 'Spicy Ramen Noodles',\n",
       " 'Dried Seaweed',\n",
       " 'Hotteok Box Mix',\n",
       " 'Instant coffees, beverages, and soups',\n",
       " 'Anything Honey Butter Flavor',\n",
       " 'Korean Red Ginseng',\n",
       " 'Kimchi',\n",
       " 'Hangover Cure Products']"
      ]
     },
     "execution_count": 180,
     "metadata": {},
     "output_type": "execute_result"
    }
   ],
   "source": [
    "r5 = []\n",
    "for i in r_list:\n",
    "    r5.append(i.split('. ')[1])\n",
    "r5  # 리스트 완성5"
   ]
  },
  {
   "cell_type": "code",
   "execution_count": 176,
   "id": "a52b3f1a",
   "metadata": {},
   "outputs": [
    {
     "data": {
      "text/plain": [
       "['Banana Milk',\n",
       " 'Kimchi',\n",
       " 'Seaweed',\n",
       " 'Chili sauce (chilli paste, chutney)',\n",
       " 'Honey Butter Chips',\n",
       " 'Pringles',\n",
       " 'Green Tea Milk Spread Jam Matcha Cream',\n",
       " 'Instant noodles',\n",
       " 'Honey grapefruit tea (Honey citron tea)']"
      ]
     },
     "execution_count": 176,
     "metadata": {},
     "output_type": "execute_result"
    }
   ],
   "source": [
    "driver.get('https://livingnomads.com/2023/02/best-things-to-buy-in-korea/')\n",
    "from selenium.webdriver.common.by import By \n",
    "a = driver.find_elements(By.XPATH, '//*[@id=\"post-56265\"]/div[2]/div[1]/div/div[1]/h2')\n",
    "r6 = []\n",
    "for i in a:\n",
    "    r6.append(i.text)\n",
    "r6 # 리스트 완성6"
   ]
  },
  {
   "cell_type": "code",
   "execution_count": 175,
   "id": "40b35bd6",
   "metadata": {},
   "outputs": [
    {
     "data": {
      "text/plain": [
       "['Korean cosmetics',\n",
       " 'Cute socks and animal hats',\n",
       " 'Packed and dried Seaweeds',\n",
       " 'K-pop paraphernalia',\n",
       " 'Mini pouches',\n",
       " 'Stationery',\n",
       " 'Soju',\n",
       " 'Korean tea',\n",
       " 'Kitchenwares',\n",
       " 'Hanji',\n",
       " 'Korean snacks',\n",
       " 'Electronics',\n",
       " 'Embroidery']"
      ]
     },
     "execution_count": 175,
     "metadata": {},
     "output_type": "execute_result"
    }
   ],
   "source": [
    "driver.get('https://www.tripzilla.com/buy-souvenirs-south-korea/19531')\n",
    "from selenium.webdriver.common.by import By \n",
    "a = driver.find_elements(By.XPATH, '//*[@id=\"post-19531\"]/div[1]/h3')\n",
    "r7 = []\n",
    "for i in a:\n",
    "    r7.append(i.text.split('. ')[1])\n",
    "r7 # 리스트 완성7\n",
    "\n",
    "\n"
   ]
  },
  {
   "cell_type": "code",
   "execution_count": 173,
   "id": "475810db",
   "metadata": {},
   "outputs": [],
   "source": [
    "from bs4 import BeautifulSoup \n",
    "from selenium import webdriver\n",
    "import pandas as pd\n",
    "from selenium import webdriver\n",
    "\n",
    "driver = webdriver.Chrome(service = service, options = chrome_options)\n",
    "driver.get('https://www.gpsmycity.com/articles/73-17-uniquely-korean-souvenirs-to-buy-in-seoul.html')\n",
    "\n",
    "html = driver.page_source\n",
    "soup = BeautifulSoup(html, 'html.parser')\n",
    "target = soup.find_all('h3', style=\"margin:25px 0;\")  # 패턴이 안보여서 타겟팅으로 뽑기\n",
    "\n",
    "    "
   ]
  },
  {
   "cell_type": "code",
   "execution_count": 174,
   "id": "b27ede30",
   "metadata": {},
   "outputs": [
    {
     "data": {
      "text/plain": [
       "['Korean Celadon Buddhist Incense Burner',\n",
       " 'Traditional Korean Masks',\n",
       " 'Korean Hanbok Dolls/Teddies',\n",
       " 'Korean Celadon Chinaware',\n",
       " 'Specialty Organic Korean Jakseol Green Tea (Jakseolcha)',\n",
       " 'Korean Paper (Hanji)',\n",
       " 'Traditional Korean Silk (or Hanji) Folding Fan',\n",
       " 'Traditional Korean Ornate (Mother of Pearl) Jewelry Box',\n",
       " 'Traditional Korean Silk Coin Purse',\n",
       " 'Korean Rice Cakes (Tteok)',\n",
       " 'Hair Barrettes for Girls',\n",
       " 'Premium Soju',\n",
       " 'Wooden Spoon and Chopsticks Set',\n",
       " 'Traditional Korean Bamboo Flute',\n",
       " 'Korean Paintings',\n",
       " 'Traditional Korean Tobacco Smoking Pipe',\n",
       " 'Korean Ginseng']"
      ]
     },
     "execution_count": 174,
     "metadata": {},
     "output_type": "execute_result"
    }
   ],
   "source": [
    "r8 = []\n",
    "for i in target:\n",
    "    r8.append(i.text.split('. ')[1])\n",
    "r8 # 리스트 완성 8"
   ]
  },
  {
   "cell_type": "code",
   "execution_count": 160,
   "id": "fc872955",
   "metadata": {},
   "outputs": [],
   "source": [
    "from selenium import webdriver\n",
    "from selenium.webdriver.chrome.service import Service\n",
    "from selenium.webdriver.chrome.options import Options\n",
    "from selenium.webdriver.common.by import By\n",
    "from selenium.webdriver.common.keys import Keys\n",
    "import urllib.request\n",
    "import time\n",
    "# 크롬 드라이버 자동 업데이트\n",
    "from webdriver_manager.chrome import ChromeDriverManager\n",
    "# 브라우저 꺼짐 방지\n",
    "chrome_options = Options()\n",
    "chrome_options.add_experimental_option(\"detach\", True)\n",
    "# 불필요한 에러 메시지 없애기\n",
    "chrome_options.add_experimental_option(\"excludeSwitches\", [\"enable-logging\"])\n",
    "service = Service(executable_path=ChromeDriverManager().install())\n",
    "driver = webdriver.Chrome(options=chrome_options)"
   ]
  },
  {
   "cell_type": "code",
   "execution_count": 172,
   "id": "872e9b0b",
   "metadata": {},
   "outputs": [
    {
     "data": {
      "text/plain": [
       "['Bojagi',\n",
       " 'Korean Traditional Paintings & Calligraphy',\n",
       " 'Hanbok',\n",
       " 'Pottery',\n",
       " 'Traditional Korean Foods',\n",
       " 'Tea',\n",
       " 'Cutlery Sets',\n",
       " 'Korean Pillows',\n",
       " 'Korean Board Games',\n",
       " 'Jewellery Box',\n",
       " 'Hanji Paper & Fans',\n",
       " 'Dojang Stamp',\n",
       " 'Korean Embroidery (Jasu)',\n",
       " 'Hand Fan']"
      ]
     },
     "execution_count": 172,
     "metadata": {},
     "output_type": "execute_result"
    }
   ],
   "source": [
    "driver.get('https://www.seoulinspired.com/korean-gifts/')\n",
    "from selenium.webdriver.common.by import By \n",
    "a = driver.find_elements(By.XPATH, '//*[@id=\"post-9481\"]/div/div/div[2]/div[3]/div/div[2]/div/div[1]/div/div')\n",
    "r9 = []\n",
    "for i in a:\n",
    "    r9.append(i.text.split('. ')[1])\n",
    "r9 # 리스트 완성9"
   ]
  },
  {
   "cell_type": "code",
   "execution_count": 170,
   "id": "bb5fe1d8",
   "metadata": {},
   "outputs": [],
   "source": [
    "from selenium import webdriver\n",
    "from selenium.webdriver.chrome.service import Service\n",
    "from selenium.webdriver.chrome.options import Options\n",
    "from selenium.webdriver.common.by import By\n",
    "from selenium.webdriver.common.keys import Keys\n",
    "import urllib.request\n",
    "import time\n",
    "# 크롬 드라이버 자동 업데이트\n",
    "from webdriver_manager.chrome import ChromeDriverManager\n",
    "# 브라우저 꺼짐 방지\n",
    "chrome_options = Options()\n",
    "chrome_options.add_experimental_option(\"detach\", True)\n",
    "# 불필요한 에러 메시지 없애기\n",
    "chrome_options.add_experimental_option(\"excludeSwitches\", [\"enable-logging\"])\n",
    "service = Service(executable_path=ChromeDriverManager().install())\n",
    "driver = webdriver.Chrome(options=chrome_options)"
   ]
  },
  {
   "cell_type": "code",
   "execution_count": 171,
   "id": "e184e375",
   "metadata": {},
   "outputs": [
    {
     "data": {
      "text/plain": [
       "['Socks',\n",
       " 'Chopsticks',\n",
       " 'Nail clippers',\n",
       " 'Pouches',\n",
       " 'Wallets',\n",
       " 'Bookmarks',\n",
       " 'Ball pen set',\n",
       " 'Korean paper products',\n",
       " 'Hand mirrors',\n",
       " 'Wall decor (paintings)',\n",
       " 'Animal figurines',\n",
       " 'Zodiac figurines',\n",
       " 'Scarves',\n",
       " 'Plush toys',\n",
       " 'Bags',\n",
       " 'Handpainted folding fans',\n",
       " 'Face masks',\n",
       " 'Body creams',\n",
       " 'Pastries',\n",
       " 'Mochi-like treats',\n",
       " 'Korean jellies',\n",
       " 'Korean candies',\n",
       " 'Dragon beard candy',\n",
       " 'Lotte Mart food items',\n",
       " 'Korean ginseng']"
      ]
     },
     "execution_count": 171,
     "metadata": {},
     "output_type": "execute_result"
    }
   ],
   "source": [
    "driver.get('https://www.tripzilla.com/cute-cheap-souvenir-items-korea/52587')\n",
    "from selenium.webdriver.common.by import By \n",
    "a = driver.find_elements(By.XPATH, '//*[@id=\"post-52587\"]/div[1]/h3')\n",
    "r10 = []\n",
    "for i in a:\n",
    "    r10.append(i.text.split('. ')[1])\n",
    "r10 # 리스트 완성10\n",
    "\n"
   ]
  },
  {
   "cell_type": "code",
   "execution_count": 194,
   "id": "cee3630f",
   "metadata": {},
   "outputs": [],
   "source": [
    "r1.extend(r2)"
   ]
  },
  {
   "cell_type": "code",
   "execution_count": 196,
   "id": "08f26ce7",
   "metadata": {},
   "outputs": [],
   "source": [
    "r1.extend(r3)"
   ]
  },
  {
   "cell_type": "code",
   "execution_count": 197,
   "id": "42921a3b",
   "metadata": {},
   "outputs": [],
   "source": [
    "r1.extend(r4) "
   ]
  },
  {
   "cell_type": "code",
   "execution_count": 198,
   "id": "1da94f7f",
   "metadata": {},
   "outputs": [],
   "source": [
    "r1.extend(r5)"
   ]
  },
  {
   "cell_type": "code",
   "execution_count": 199,
   "id": "1d766da4",
   "metadata": {},
   "outputs": [],
   "source": [
    "r1.extend(r6)"
   ]
  },
  {
   "cell_type": "code",
   "execution_count": 200,
   "id": "a01ff20f",
   "metadata": {},
   "outputs": [],
   "source": [
    "r1.extend(r7)"
   ]
  },
  {
   "cell_type": "code",
   "execution_count": 201,
   "id": "98be77cb",
   "metadata": {},
   "outputs": [],
   "source": [
    "r1.extend(r8)"
   ]
  },
  {
   "cell_type": "code",
   "execution_count": 202,
   "id": "0e657363",
   "metadata": {},
   "outputs": [],
   "source": [
    "r1.extend(r9)"
   ]
  },
  {
   "cell_type": "code",
   "execution_count": 203,
   "id": "5a64bfc8",
   "metadata": {},
   "outputs": [],
   "source": [
    "r1.extend(r10)"
   ]
  },
  {
   "cell_type": "code",
   "execution_count": 204,
   "id": "c0d45dd2",
   "metadata": {},
   "outputs": [
    {
     "data": {
      "text/plain": [
       "['Korean Packaged Food',\n",
       " 'Korean Instant Noodles',\n",
       " 'Dried Food Snacks',\n",
       " 'Ginseng',\n",
       " 'Korean Cosmetics and Skin Care Products',\n",
       " 'Korean Beverages',\n",
       " 'Korean Socks',\n",
       " 'Korean Traditional Souvenirs',\n",
       " 'K-Pop Goods',\n",
       " 'Starbucks Goods',\n",
       " 'Stationery',\n",
       " 'Kakao Friends',\n",
       " 'Phone Accessories',\n",
       " 'Electric Rice Cooker',\n",
       " 'Ramyeon (Instant Noodles)',\n",
       " 'Soju & Makgeolli (Korean Alcoholic Drinks)',\n",
       " 'Gim (Dried Seaweed)',\n",
       " 'Korean Beauty Products',\n",
       " 'K-Pop & K-Drama Goods',\n",
       " 'Stationery Items',\n",
       " 'Korean Red Ginseng (Hongsam)',\n",
       " 'Traditional Handicrafts',\n",
       " 'Customized Souvenir',\n",
       " 'Socks & Stockings',\n",
       " 'Korean Snacks',\n",
       " 'Kakao Friends & LINE Friends’ Daily Goods',\n",
       " 'Hanbok (Korean Traditional Dress)',\n",
       " 'Starbucks Goods',\n",
       " 'Korean Clothing & Fashion Items',\n",
       " 'Osulloc Tea & Snacks',\n",
       " 'Korean beauty products',\n",
       " 'Traditional hanbok',\n",
       " 'Handmade ceramics',\n",
       " 'Traditional Korean fan',\n",
       " 'Korean tea',\n",
       " 'Customised souvenirs',\n",
       " 'Korean folk crafts',\n",
       " 'Traditional dress',\n",
       " 'Kimchi',\n",
       " 'Starbucks goods',\n",
       " 'Intricate metalwork',\n",
       " 'Korean jewellery boxes (artisan woodcraft)',\n",
       " 'Hanji paper art',\n",
       " 'Korean name necklace',\n",
       " 'Korean stationery',\n",
       " 'Korean instant ramen',\n",
       " 'Pepero',\n",
       " 'Dragon’s beard candy',\n",
       " 'Korean jellies and candies',\n",
       " 'Korean pastries',\n",
       " 'Personalized stone stamps',\n",
       " 'NAMANE Card',\n",
       " 'Lucky charms',\n",
       " 'Paper products',\n",
       " 'Bookmarks',\n",
       " 'Journals',\n",
       " 'Stuffed toys',\n",
       " 'Ceramic items',\n",
       " 'Wooden utensils',\n",
       " 'Hand fans',\n",
       " 'Character socks',\n",
       " 'Knitted caps',\n",
       " 'Scarves',\n",
       " 'Bucket hats',\n",
       " 'Bags',\n",
       " 'Clothes',\n",
       " 'Hand mirrors',\n",
       " 'Earrings',\n",
       " 'Korean skincare products',\n",
       " 'Korean Face Masks',\n",
       " 'And anything K Beauty',\n",
       " 'Korean Clothes + Shoes',\n",
       " 'Silly Socks',\n",
       " 'Cute stationery and office supplies',\n",
       " 'Phone Cases and Accessories',\n",
       " 'K-pop Merch',\n",
       " 'Dojang or Traditional Stamps',\n",
       " 'Korean Chopsticks',\n",
       " 'Hanji Paper',\n",
       " 'Korean Tea',\n",
       " 'Traditional Wooden Korean Masks',\n",
       " 'Wooden Wedding Ducks.',\n",
       " 'Hanbok',\n",
       " 'Soju',\n",
       " 'Korean spices and pastes',\n",
       " 'Pepero',\n",
       " 'Spicy Ramen Noodles',\n",
       " 'Dried Seaweed',\n",
       " 'Hotteok Box Mix',\n",
       " 'Instant coffees, beverages, and soups',\n",
       " 'Anything Honey Butter Flavor',\n",
       " 'Korean Red Ginseng',\n",
       " 'Kimchi',\n",
       " 'Hangover Cure Products',\n",
       " 'Banana Milk',\n",
       " 'Kimchi',\n",
       " 'Seaweed',\n",
       " 'Chili sauce (chilli paste, chutney)',\n",
       " 'Honey Butter Chips',\n",
       " 'Pringles',\n",
       " 'Green Tea Milk Spread Jam Matcha Cream',\n",
       " 'Instant noodles',\n",
       " 'Honey grapefruit tea (Honey citron tea)',\n",
       " 'Korean cosmetics',\n",
       " 'Cute socks and animal hats',\n",
       " 'Packed and dried Seaweeds',\n",
       " 'K-pop paraphernalia',\n",
       " 'Mini pouches',\n",
       " 'Stationery',\n",
       " 'Soju',\n",
       " 'Korean tea',\n",
       " 'Kitchenwares',\n",
       " 'Hanji',\n",
       " 'Korean snacks',\n",
       " 'Electronics',\n",
       " 'Embroidery',\n",
       " 'Korean Celadon Buddhist Incense Burner',\n",
       " 'Traditional Korean Masks',\n",
       " 'Korean Hanbok Dolls/Teddies',\n",
       " 'Korean Celadon Chinaware',\n",
       " 'Specialty Organic Korean Jakseol Green Tea (Jakseolcha)',\n",
       " 'Korean Paper (Hanji)',\n",
       " 'Traditional Korean Silk (or Hanji) Folding Fan',\n",
       " 'Traditional Korean Ornate (Mother of Pearl) Jewelry Box',\n",
       " 'Traditional Korean Silk Coin Purse',\n",
       " 'Korean Rice Cakes (Tteok)',\n",
       " 'Hair Barrettes for Girls',\n",
       " 'Premium Soju',\n",
       " 'Wooden Spoon and Chopsticks Set',\n",
       " 'Traditional Korean Bamboo Flute',\n",
       " 'Korean Paintings',\n",
       " 'Traditional Korean Tobacco Smoking Pipe',\n",
       " 'Korean Ginseng',\n",
       " 'Bojagi',\n",
       " 'Korean Traditional Paintings & Calligraphy',\n",
       " 'Hanbok',\n",
       " 'Pottery',\n",
       " 'Traditional Korean Foods',\n",
       " 'Tea',\n",
       " 'Cutlery Sets',\n",
       " 'Korean Pillows',\n",
       " 'Korean Board Games',\n",
       " 'Jewellery Box',\n",
       " 'Hanji Paper & Fans',\n",
       " 'Dojang Stamp',\n",
       " 'Korean Embroidery (Jasu)',\n",
       " 'Hand Fan',\n",
       " 'Socks',\n",
       " 'Chopsticks',\n",
       " 'Nail clippers',\n",
       " 'Pouches',\n",
       " 'Wallets',\n",
       " 'Bookmarks',\n",
       " 'Ball pen set',\n",
       " 'Korean paper products',\n",
       " 'Hand mirrors',\n",
       " 'Wall decor (paintings)',\n",
       " 'Animal figurines',\n",
       " 'Zodiac figurines',\n",
       " 'Scarves',\n",
       " 'Plush toys',\n",
       " 'Bags',\n",
       " 'Handpainted folding fans',\n",
       " 'Face masks',\n",
       " 'Body creams',\n",
       " 'Pastries',\n",
       " 'Mochi-like treats',\n",
       " 'Korean jellies',\n",
       " 'Korean candies',\n",
       " 'Dragon beard candy',\n",
       " 'Lotte Mart food items',\n",
       " 'Korean ginseng']"
      ]
     },
     "execution_count": 204,
     "metadata": {},
     "output_type": "execute_result"
    }
   ],
   "source": [
    "r1"
   ]
  },
  {
   "cell_type": "code",
   "execution_count": 219,
   "id": "79df8c8d",
   "metadata": {},
   "outputs": [
    {
     "name": "stdout",
     "output_type": "stream",
     "text": [
      "Korean Packaged Food\n",
      "Korean Instant Noodles\n",
      "Dried Food Snacks\n",
      "Ginseng\n",
      "Korean Cosmetics and Skin Care Products\n",
      "Korean Beverages\n",
      "Korean Socks\n",
      "Korean Traditional Souvenirs\n",
      "K-Pop Goods\n",
      "Starbucks Goods\n",
      "Stationery\n",
      "Kakao Friends\n",
      "Phone Accessories\n",
      "Electric Rice Cooker\n",
      "Ramyeon (Instant Noodles)\n",
      "Soju & Makgeolli (Korean Alcoholic Drinks)\n",
      "Gim (Dried Seaweed)\n",
      "Korean Beauty Products\n",
      "K-Pop & K-Drama Goods\n",
      "Stationery Items\n",
      "Korean Red Ginseng (Hongsam)\n",
      "Traditional Handicrafts\n",
      "Customized Souvenir\n",
      "Socks & Stockings\n",
      "Korean Snacks\n",
      "Kakao Friends & LINE Friends’ Daily Goods\n",
      "Hanbok (Korean Traditional Dress)\n",
      "Starbucks Goods\n",
      "Korean Clothing & Fashion Items\n",
      "Osulloc Tea & Snacks\n",
      "Korean beauty products\n",
      "Traditional hanbok\n",
      "Handmade ceramics\n",
      "Traditional Korean fan\n",
      "Korean tea\n",
      "Customised souvenirs\n",
      "Korean folk crafts\n",
      "Traditional dress\n",
      "Kimchi\n",
      "Starbucks goods\n",
      "Intricate metalwork\n",
      "Korean jewellery boxes (artisan woodcraft)\n",
      "Hanji paper art\n",
      "Korean name necklace\n",
      "Korean stationery\n",
      "Korean instant ramen\n",
      "Pepero\n",
      "Dragon’s beard candy\n",
      "Korean jellies and candies\n",
      "Korean pastries\n",
      "Personalized stone stamps\n",
      "NAMANE Card\n",
      "Lucky charms\n",
      "Paper products\n",
      "Bookmarks\n",
      "Journals\n",
      "Stuffed toys\n",
      "Ceramic items\n",
      "Wooden utensils\n",
      "Hand fans\n",
      "Character socks\n",
      "Knitted caps\n",
      "Scarves\n",
      "Bucket hats\n",
      "Bags\n",
      "Clothes\n",
      "Hand mirrors\n",
      "Earrings\n",
      "Korean skincare products\n",
      "Korean Face Masks\n",
      "And anything K Beauty\n",
      "Korean Clothes + Shoes\n",
      "Silly Socks\n",
      "Cute stationery and office supplies\n",
      "Phone Cases and Accessories\n",
      "K-pop Merch\n",
      "Dojang or Traditional Stamps\n",
      "Korean Chopsticks\n",
      "Hanji Paper\n",
      "Korean Tea\n",
      "Traditional Wooden Korean Masks\n",
      "Wooden Wedding Ducks.\n",
      "Hanbok\n",
      "Soju\n",
      "Korean spices and pastes\n",
      "Pepero\n",
      "Spicy Ramen Noodles\n",
      "Dried Seaweed\n",
      "Hotteok Box Mix\n",
      "Instant coffees, beverages, and soups\n",
      "Anything Honey Butter Flavor\n",
      "Korean Red Ginseng\n",
      "Kimchi\n",
      "Hangover Cure Products\n",
      "Banana Milk\n",
      "Kimchi\n",
      "Seaweed\n",
      "Chili sauce (chilli paste, chutney)\n",
      "Honey Butter Chips\n",
      "Pringles\n",
      "Green Tea Milk Spread Jam Matcha Cream\n",
      "Instant noodles\n",
      "Honey grapefruit tea (Honey citron tea)\n",
      "Korean cosmetics\n",
      "Cute socks and animal hats\n",
      "Packed and dried Seaweeds\n",
      "K-pop paraphernalia\n",
      "Mini pouches\n",
      "Stationery\n",
      "Soju\n",
      "Korean tea\n",
      "Kitchenwares\n",
      "Hanji\n",
      "Korean snacks\n",
      "Electronics\n",
      "Embroidery\n",
      "Korean Celadon Buddhist Incense Burner\n",
      "Traditional Korean Masks\n",
      "Korean Hanbok Dolls/Teddies\n",
      "Korean Celadon Chinaware\n",
      "Specialty Organic Korean Jakseol Green Tea (Jakseolcha)\n",
      "Korean Paper (Hanji)\n",
      "Traditional Korean Silk (or Hanji) Folding Fan\n",
      "Traditional Korean Ornate (Mother of Pearl) Jewelry Box\n",
      "Traditional Korean Silk Coin Purse\n",
      "Korean Rice Cakes (Tteok)\n",
      "Hair Barrettes for Girls\n",
      "Premium Soju\n",
      "Wooden Spoon and Chopsticks Set\n",
      "Traditional Korean Bamboo Flute\n",
      "Korean Paintings\n",
      "Traditional Korean Tobacco Smoking Pipe\n",
      "Korean Ginseng\n",
      "Bojagi\n",
      "Korean Traditional Paintings & Calligraphy\n",
      "Hanbok\n",
      "Pottery\n",
      "Traditional Korean Foods\n",
      "Tea\n",
      "Cutlery Sets\n",
      "Korean Pillows\n",
      "Korean Board Games\n",
      "Jewellery Box\n",
      "Hanji Paper & Fans\n",
      "Dojang Stamp\n",
      "Korean Embroidery (Jasu)\n",
      "Hand Fan\n",
      "Socks\n",
      "Chopsticks\n",
      "Nail clippers\n",
      "Pouches\n",
      "Wallets\n",
      "Bookmarks\n",
      "Ball pen set\n",
      "Korean paper products\n",
      "Hand mirrors\n",
      "Wall decor (paintings)\n",
      "Animal figurines\n",
      "Zodiac figurines\n",
      "Scarves\n",
      "Plush toys\n",
      "Bags\n",
      "Handpainted folding fans\n",
      "Face masks\n",
      "Body creams\n",
      "Pastries\n",
      "Mochi-like treats\n",
      "Korean jellies\n",
      "Korean candies\n",
      "Dragon beard candy\n",
      "Lotte Mart food items\n",
      "Korean ginseng\n"
     ]
    }
   ],
   "source": [
    "for i in r1:\n",
    "    print(i)"
   ]
  },
  {
   "cell_type": "code",
   "execution_count": 276,
   "id": "e13a12f2",
   "metadata": {},
   "outputs": [],
   "source": [
    "with open(\"souvenir2.txt\", \"w\") as file:\n",
    "    file.write(\"%s\\n\" % r1)"
   ]
  },
  {
   "cell_type": "code",
   "execution_count": 277,
   "id": "b15c8ead",
   "metadata": {},
   "outputs": [
    {
     "data": {
      "text/plain": [
       "\"['Korean Packaged Food', 'Korean Instant Noodles', 'Dried Food Snacks', 'Ginseng', 'Korean Cosmetics and Skin Care Products', 'Korean Beverages', 'Korean Socks', 'Korean Traditional Souvenirs', 'K-Pop Goods', 'Starbucks Goods', 'Stationery', 'Kakao Friends', 'Phone Accessories', 'Electric Rice Cooker', 'Ramyeon (Instant Noodles)', 'Soju & Makgeolli (Korean Alcoholic Drinks)', 'Gim (Dried Seaweed)', 'Korean Beauty Products', 'K-Pop & K-Drama Goods', 'Stationery Items', 'Korean Red Ginseng (Hongsam)', 'Traditional Handicrafts', 'Customized Souvenir', 'Socks & Stockings', 'Korean Snacks', 'Kakao Friends & LINE Friends’ Daily Goods', 'Hanbok (Korean Traditional Dress)', 'Starbucks Goods', 'Korean Clothing & Fashion Items', 'Osulloc Tea & Snacks', 'Korean beauty products', 'Traditional hanbok', 'Handmade ceramics', 'Traditional Korean fan', 'Korean tea', 'Customised souvenirs', 'Korean folk crafts', 'Traditional dress', 'Kimchi', 'Starbucks goods', 'Intricate metalwork', 'Korean jewellery boxes (artisan woodcraft)', 'Hanji paper art', 'Korean name necklace', 'Korean stationery', 'Korean instant ramen', 'Pepero', 'Dragon’s beard candy', 'Korean jellies and candies', 'Korean pastries', 'Personalized stone stamps', 'NAMANE Card', 'Lucky charms', 'Paper products', 'Bookmarks', 'Journals', 'Stuffed toys', 'Ceramic items', 'Wooden utensils', 'Hand fans', 'Character socks', 'Knitted caps', 'Scarves', 'Bucket hats', 'Bags', 'Clothes', 'Hand mirrors', 'Earrings', 'Korean skincare products', 'Korean Face Masks', 'And anything K Beauty', 'Korean Clothes + Shoes', 'Silly Socks', 'Cute stationery and office supplies', 'Phone Cases and Accessories', 'K-pop Merch', 'Dojang or Traditional Stamps', 'Korean Chopsticks', 'Hanji Paper', 'Korean Tea', 'Traditional Wooden Korean Masks', 'Wooden Wedding Ducks.', 'Hanbok', 'Soju', 'Korean spices and pastes', 'Pepero', 'Spicy Ramen Noodles', 'Dried Seaweed', 'Hotteok Box Mix', 'Instant coffees, beverages, and soups', 'Anything Honey Butter Flavor', 'Korean Red Ginseng', 'Kimchi', 'Hangover Cure Products', 'Banana Milk', 'Kimchi', 'Seaweed', 'Chili sauce (chilli paste, chutney)', 'Honey Butter Chips', 'Pringles', 'Green Tea Milk Spread Jam Matcha Cream', 'Instant noodles', 'Honey grapefruit tea (Honey citron tea)', 'Korean cosmetics', 'Cute socks and animal hats', 'Packed and dried Seaweeds', 'K-pop paraphernalia', 'Mini pouches', 'Stationery', 'Soju', 'Korean tea', 'Kitchenwares', 'Hanji', 'Korean snacks', 'Electronics', 'Embroidery', 'Korean Celadon Buddhist Incense Burner', 'Traditional Korean Masks', 'Korean Hanbok Dolls/Teddies', 'Korean Celadon Chinaware', 'Specialty Organic Korean Jakseol Green Tea (Jakseolcha)', 'Korean Paper (Hanji)', 'Traditional Korean Silk (or Hanji) Folding Fan', 'Traditional Korean Ornate (Mother of Pearl) Jewelry Box', 'Traditional Korean Silk Coin Purse', 'Korean Rice Cakes (Tteok)', 'Hair Barrettes for Girls', 'Premium Soju', 'Wooden Spoon and Chopsticks Set', 'Traditional Korean Bamboo Flute', 'Korean Paintings', 'Traditional Korean Tobacco Smoking Pipe', 'Korean Ginseng', 'Bojagi', 'Korean Traditional Paintings & Calligraphy', 'Hanbok', 'Pottery', 'Traditional Korean Foods', 'Tea', 'Cutlery Sets', 'Korean Pillows', 'Korean Board Games', 'Jewellery Box', 'Hanji Paper & Fans', 'Dojang Stamp', 'Korean Embroidery (Jasu)', 'Hand Fan', 'Socks', 'Chopsticks', 'Nail clippers', 'Pouches', 'Wallets', 'Bookmarks', 'Ball pen set', 'Korean paper products', 'Hand mirrors', 'Wall decor (paintings)', 'Animal figurines', 'Zodiac figurines', 'Scarves', 'Plush toys', 'Bags', 'Handpainted folding fans', 'Face masks', 'Body creams', 'Pastries', 'Mochi-like treats', 'Korean jellies', 'Korean candies', 'Dragon beard candy', 'Lotte Mart food items', 'Korean ginseng']\\n\""
      ]
     },
     "execution_count": 277,
     "metadata": {},
     "output_type": "execute_result"
    }
   ],
   "source": [
    "from wordcloud import WordCloud, STOPWORDS\n",
    "import numpy as np\n",
    "from PIL import Image\n",
    "text = open('../source/souvenir2.txt').read()\n",
    "cloud_mask = np.array(Image.open('../data/cloud.png'))\n",
    "stopwords = set(STOPWORDS)\n",
    "text"
   ]
  },
  {
   "cell_type": "code",
   "execution_count": 274,
   "id": "7e057963",
   "metadata": {},
   "outputs": [
    {
     "data": {
      "text/plain": [
       "\"['Korean Packaged Food', 'Korean Instant Noodles', 'Dried Food Snacks', 'Ginseng', 'Korean Cosmetics and Skin Care Products', 'Korean Beverages', 'Korean Socks', 'Korean Traditional Souvenirs', 'K-Pop Goods', 'Starbucks Goods', 'Stationery', 'Kakao Friends', 'Phone Accessories', 'Electric Rice Cooker', 'Ramyeon (Instant Noodles)', 'Soju & Makgeolli (Korean Alcoholic Drinks)', 'Gim (Dried Seaweed)', 'Korean Beauty Products', 'K-Pop & K-Drama Goods', 'Stationery Items', 'Korean Red Ginseng (Hongsam)', 'Traditional Handicrafts', 'Customized Souvenir', 'Socks & Stockings', 'Korean Snacks', 'Kakao Friends & LINE Friends’ Daily Goods', 'Hanbok (Korean Traditional Dress)', 'Starbucks Goods', 'Korean Clothing & Fashion Items', 'Osulloc Tea & Snacks', 'Korean beauty products', 'Traditional hanbok', 'Handmade ceramics', 'Traditional Korean fan', 'Korean tea', 'Customised souvenirs', 'Korean folk crafts', 'Traditional dress', 'Kimchi', 'Starbucks goods', 'Intricate metalwork', 'Korean jewellery boxes (artisan woodcraft)', 'Hanji paper art', 'Korean name necklace', 'Korean stationery', 'Korean instant ramen', 'Pepero', 'Dragon’s beard candy', 'Korean jellies and candies', 'Korean pastries', 'Personalized stone stamps', 'NAMANE Card', 'Lucky charms', 'Paper products', 'Bookmarks', 'Journals', 'Stuffed toys', 'Ceramic items', 'Wooden utensils', 'Hand fans', 'Character socks', 'Knitted caps', 'Scarves', 'Bucket hats', 'Bags', 'Clothes', 'Hand mirrors', 'Earrings', 'Korean skincare products', 'Korean Face Masks', 'And anything K Beauty', 'Korean Clothes + Shoes', 'Silly Socks', 'Cute stationery and office supplies', 'Phone Cases and Accessories', 'K-pop Merch', 'Dojang or Traditional Stamps', 'Korean Chopsticks', 'Hanji Paper', 'Korean Tea', 'Traditional Wooden Korean Masks', 'Wooden Wedding Ducks.', 'Hanbok', 'Soju', 'Korean spices and pastes', 'Pepero', 'Spicy Ramen Noodles', 'Dried Seaweed', 'Hotteok Box Mix', 'Instant coffees, beverages, and soups', 'Anything Honey Butter Flavor', 'Korean Red Ginseng', 'Kimchi', 'Hangover Cure Products', 'Banana Milk', 'Kimchi', 'Seaweed', 'Chili sauce (chilli paste, chutney)', 'Honey Butter Chips', 'Pringles', 'Green Tea Milk Spread Jam Matcha Cream', 'Instant noodles', 'Honey grapefruit tea (Honey citron tea)', 'Korean cosmetics', 'Cute socks and animal hats', 'Packed and dried Seaweeds', 'K-pop paraphernalia', 'Mini pouches', 'Stationery', 'Soju', 'Korean tea', 'Kitchenwares', 'Hanji', 'Korean snacks', 'Electronics', 'Embroidery', 'Korean Celadon Buddhist Incense Burner', 'Traditional Korean Masks', 'Korean Hanbok Dolls/Teddies', 'Korean Celadon Chinaware', 'Specialty Organic Korean Jakseol Green Tea (Jakseolcha)', 'Korean Paper (Hanji)', 'Traditional Korean Silk (or Hanji) Folding Fan', 'Traditional Korean Ornate (Mother of Pearl) Jewelry Box', 'Traditional Korean Silk Coin Purse', 'Korean Rice Cakes (Tteok)', 'Hair Barrettes for Girls', 'Premium Soju', 'Wooden Spoon and Chopsticks Set', 'Traditional Korean Bamboo Flute', 'Korean Paintings', 'Traditional Korean Tobacco Smoking Pipe', 'Korean Ginseng', 'Bojagi', 'Korean Traditional Paintings & Calligraphy', 'Hanbok', 'Pottery', 'Traditional Korean Foods', 'Tea', 'Cutlery Sets', 'Korean Pillows', 'Korean Board Games', 'Jewellery Box', 'Hanji Paper & Fans', 'Dojang Stamp', 'Korean Embroidery (Jasu)', 'Hand Fan', 'Socks', 'Chopsticks', 'Nail clippers', 'Pouches', 'Wallets', 'Bookmarks', 'Ball pen set', 'Korean paper products', 'Hand mirrors', 'Wall decor (paintings)', 'Animal figurines', 'Zodiac figurines', 'Scarves', 'Plush toys', 'Bags', 'Handpainted folding fans', 'Face masks', 'Body creams', 'Pastries', 'Mochi-like treats', 'Korean jellies', 'Korean candies', 'Dragon beard candy', 'Lotte Mart food items', 'Korean ginseng']\\n\""
      ]
     },
     "execution_count": 274,
     "metadata": {},
     "output_type": "execute_result"
    }
   ],
   "source": [
    "text"
   ]
  },
  {
   "cell_type": "code",
   "execution_count": 275,
   "id": "2842869a",
   "metadata": {},
   "outputs": [
    {
     "data": {
      "text/plain": [
       "' Packaged Food,  Instant Noodles, Dried Food Snacks, Ginseng,  Cosmetics and Skin Care Products,  Beverages,  Socks,  Traditional Souvenirs, K-Pop Goods, Starbucks Goods, Stationery, Kakao Friends, Phone Accessories, Electric Rice Cooker, Ramyeon (Instant Noodles), Soju & Makgeolli ( Alcoholic Drinks), Gim (Dried Seaweed),  Beauty Products, K-Pop & K-Drama Goods, Stationery Items,  Red Ginseng (Hongsam), Traditional Handicrafts, Customized Souvenir, Socks & Stockings,  Snacks, Kakao Friends & LINE Friends’ Daily Goods, Hanbok ( Traditional Dress), Starbucks Goods,  Clothing & Fashion Items, Osulloc Tea & Snacks,  beauty , Traditional hanbok, Handmade ceramics, Traditional  fan,  tea, Customised souvenirs,  folk crafts, Traditional dress, Kimchi, Starbucks goods, Intricate metalwork,  jewellery boxes (artisan woodcraft), Hanji paper art,  name necklace,  stationery,  instant ramen, Pepero, Dragon’s beard candy,  jellies and candies,  pastries, Personalized stone stamps, NAMANE Card, Lucky charms, Paper , Bookmarks, Journals, Stuffed toys, Ceramic items, Wooden utensils, Hand fans, Character socks, Knitted caps, Scarves, Bucket hats, Bags, Clothes, Hand mirrors, Earrings,  skincare ,  Face Masks, And anything K Beauty,  Clothes + Shoes, Silly Socks, Cute stationery and office supplies, Phone Cases and Accessories, K-pop Merch, Dojang or Traditional Stamps,  Chopsticks, Hanji Paper,  Tea, Traditional Wooden  Masks, Wooden Wedding Ducks., Hanbok, Soju,  spices and pastes, Pepero, Spicy Ramen Noodles, Dried Seaweed, Hotteok Box Mix, Instant coffees, beverages, and soups, Anything Honey Butter Flavor,  Red Ginseng, Kimchi, Hangover Cure Products, Banana Milk, Kimchi, Seaweed, Chili sauce (chilli paste, chutney), Honey Butter Chips, Pringles, Green Tea Milk Spread Jam Matcha Cream, Instant noodles, Honey grapefruit tea (Honey citron tea),  cosmetics, Cute socks and animal hats, Packed and dried Seaweeds, K-pop paraphernalia, Mini pouches, Stationery, Soju,  tea, Kitchenwares, Hanji,  snacks, Electronics, Embroidery,  Celadon Buddhist Incense Burner, Traditional  Masks,  Hanbok Dolls/Teddies,  Celadon Chinaware, Specialty Organic  Jakseol Green Tea (Jakseolcha),  Paper (Hanji), Traditional  Silk (or Hanji) Folding Fan, Traditional  Ornate (Mother of Pearl) Jewelry Box, Traditional  Silk Coin Purse,  Rice Cakes (Tteok), Hair Barrettes for Girls, Premium Soju, Wooden Spoon and Chopsticks Set, Traditional  Bamboo Flute,  Paintings, Traditional  Tobacco Smoking Pipe,  Ginseng, Bojagi,  Traditional Paintings & Calligraphy, Hanbok, Pottery, Traditional  Foods, Tea, Cutlery Sets,  Pillows,  Board Games, Jewellery Box, Hanji Paper & Fans, Dojang Stamp,  Embroidery (Jasu), Hand Fan, Socks, Chopsticks, Nail clippers, Pouches, Wallets, Bookmarks, Ball pen set,  paper , Hand mirrors, Wall decor (paintings), Animal figurines, Zodiac figurines, Scarves, Plush toys, Bags, Handpainted folding fans, Face masks, Body creams, Pastries, Mochi-like treats,  jellies,  candies, Dragon beard candy, Lotte Mart food items,  ginseng\\n'"
      ]
     },
     "execution_count": 275,
     "metadata": {},
     "output_type": "execute_result"
    }
   ],
   "source": [
    "words"
   ]
  },
  {
   "cell_type": "code",
   "execution_count": 278,
   "id": "17d4ee5e",
   "metadata": {},
   "outputs": [],
   "source": [
    "import matplotlib.pyplot as plt\n",
    "from matplotlib import font_manager, rc\n",
    "plt.rcParams['axes.unicode_minus'] = False \n",
    "f_path = \"C:/Windows/Fonts/malgun.ttf\"\n",
    "font_name = font_manager.FontProperties(fname = f_path).get_name()\n",
    "\n",
    "rc('font', family=font_name)\n"
   ]
  },
  {
   "cell_type": "code",
   "execution_count": 279,
   "id": "d8c0a277",
   "metadata": {},
   "outputs": [],
   "source": [
    "from wordcloud import WordCloud\n",
    "import matplotlib.pyplot as plt"
   ]
  },
  {
   "cell_type": "code",
   "execution_count": 280,
   "id": "ea6c79b0",
   "metadata": {},
   "outputs": [],
   "source": [
    "mask1 = np.array(Image.open('../data/free-icon-gift-box-8138306.png'))\n"
   ]
  },
  {
   "cell_type": "code",
   "execution_count": 284,
   "id": "87e493c8",
   "metadata": {},
   "outputs": [
    {
     "data": {
      "text/plain": [
       "(-0.5, 511.5, 511.5, -0.5)"
      ]
     },
     "execution_count": 284,
     "metadata": {},
     "output_type": "execute_result"
    },
    {
     "data": {
      "image/png": "[encoded data removed]",
      "text/plain": [
       "<Figure size 1200x600 with 1 Axes>"
      ]
     },
     "metadata": {},
     "output_type": "display_data"
    }
   ],
   "source": [
    "from wordcloud import WordCloud\n",
    "import platform\n",
    "import PIL\n",
    "words = text.replace(\"[\", \"\").replace(\"]\", \"\").replace(\"'\", \"\").replace(\"Korean\", \"\").replace(\"products\", \"\")\n",
    "icon=PIL.Image.open('../data/free-icon-gift-box-8138306.png')\n",
    "img=PIL.Image.new('RGB',icon.size,(255,255,255))\n",
    "img.paste(icon,icon)\n",
    "img=np.array(img)\n",
    "my_font='../font/baemin/BMJUA_ttf.ttf'\n",
    "wordcloud=WordCloud(font_path=my_font,\n",
    "                    background_color='white',\n",
    "                    max_words=200,\n",
    "                    relative_scaling=0.3,\n",
    "                    mask=img,\n",
    "                    colormap='viridis',\n",
    "                    width=800,height=400).generate(words)\n",
    "plt.figure(figsize=(12,6))\n",
    "plt.imshow(wordcloud)\n",
    "plt.axis('off')"
   ]
  },
  {
   "cell_type": "code",
   "execution_count": null,
   "id": "f93047b4",
   "metadata": {},
   "outputs": [],
   "source": []
  }
 ],
 "metadata": {
  "kernelspec": {
   "display_name": "Python 3 (ipykernel)",
   "language": "python",
   "name": "python3"
  },
  "language_info": {
   "codemirror_mode": {
    "name": "ipython",
    "version": 3
   },
   "file_extension": ".py",
   "mimetype": "text/x-python",
   "name": "python",
   "nbconvert_exporter": "python",
   "pygments_lexer": "ipython3",
   "version": "3.11.5"
  }
 },
 "nbformat": 4,
 "nbformat_minor": 5
}
